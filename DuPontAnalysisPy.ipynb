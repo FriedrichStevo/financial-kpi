{
 "cells": [
  {
   "cell_type": "code",
   "execution_count": 1,
   "metadata": {},
   "outputs": [],
   "source": [
    "#FinancialRatiosPy"
   ]
  },
  {
   "cell_type": "code",
   "execution_count": 5,
   "metadata": {},
   "outputs": [],
   "source": [
    "import pandas as pd\n",
    "import dateutil\n",
    "\n",
    "# Load data from csv file\n",
    "data = pd.read_csv('Fdata.csv')"
   ]
  },
  {
   "cell_type": "code",
   "execution_count": 6,
   "metadata": {},
   "outputs": [
    {
     "data": {
      "text/html": [
       "<div>\n",
       "<style scoped>\n",
       "    .dataframe tbody tr th:only-of-type {\n",
       "        vertical-align: middle;\n",
       "    }\n",
       "\n",
       "    .dataframe tbody tr th {\n",
       "        vertical-align: top;\n",
       "    }\n",
       "\n",
       "    .dataframe thead th {\n",
       "        text-align: right;\n",
       "    }\n",
       "</style>\n",
       "<table border=\"1\" class=\"dataframe\">\n",
       "  <thead>\n",
       "    <tr style=\"text-align: right;\">\n",
       "      <th></th>\n",
       "      <th>Year</th>\n",
       "      <th>PrefShare</th>\n",
       "      <th>Equity</th>\n",
       "      <th>Debt</th>\n",
       "      <th>C_Liab</th>\n",
       "      <th>FixedAsset</th>\n",
       "      <th>C_Asset</th>\n",
       "      <th>PrefStock_Div</th>\n",
       "      <th>Tax</th>\n",
       "      <th>Int</th>\n",
       "      <th>OpExp</th>\n",
       "      <th>COGS</th>\n",
       "      <th>Sales</th>\n",
       "    </tr>\n",
       "  </thead>\n",
       "  <tbody>\n",
       "    <tr>\n",
       "      <th>0</th>\n",
       "      <td>2018</td>\n",
       "      <td>200</td>\n",
       "      <td>1754</td>\n",
       "      <td>1023</td>\n",
       "      <td>620</td>\n",
       "      <td>2374</td>\n",
       "      <td>1223</td>\n",
       "      <td>10</td>\n",
       "      <td>94</td>\n",
       "      <td>93</td>\n",
       "      <td>568</td>\n",
       "      <td>2088</td>\n",
       "      <td>3074</td>\n",
       "    </tr>\n",
       "  </tbody>\n",
       "</table>\n",
       "</div>"
      ],
      "text/plain": [
       "   Year  PrefShare  Equity  Debt  C_Liab  FixedAsset  C_Asset  PrefStock_Div  \\\n",
       "0  2018        200    1754  1023     620        2374     1223             10   \n",
       "\n",
       "   Tax  Int  OpExp  COGS  Sales  \n",
       "0   94   93    568  2088   3074  "
      ]
     },
     "execution_count": 6,
     "metadata": {},
     "output_type": "execute_result"
    }
   ],
   "source": [
    "data"
   ]
  },
  {
   "cell_type": "code",
   "execution_count": 10,
   "metadata": {},
   "outputs": [],
   "source": [
    "# Profit\n",
    "data['GrossProfit']= data['Sales']- data['COGS']\n",
    "data['NetProfit_Com']= data['GrossProfit']-(data['OpExp']+data['Int']+data['Tax']+data['PrefStock_Div'])\n",
    "data['NetProfitMargin']= data['NetProfit_Com']/data['Sales']"
   ]
  },
  {
   "cell_type": "code",
   "execution_count": 11,
   "metadata": {},
   "outputs": [],
   "source": [
    "# Turnover\n",
    "data['TotalAsset']= data['FixedAsset']+data['C_Asset']\n",
    "data['TotalAssetTurnover']= data['Sales']/data['TotalAsset']\n",
    "data['Leverage']= data['Debt']/data['Equity']\n",
    "data['FLM']= data['TotalAsset']/data['Equity']\n",
    "data['ROA']= data['NetProfitMargin']*data['TotalAssetTurnover']\n",
    "data['ROE']= data['ROA']* data['FLM']"
   ]
  },
  {
   "cell_type": "code",
   "execution_count": 12,
   "metadata": {},
   "outputs": [],
   "source": [
    "dataRatios = data.iloc[:,12:] "
   ]
  },
  {
   "cell_type": "code",
   "execution_count": 13,
   "metadata": {},
   "outputs": [
    {
     "data": {
      "text/html": [
       "<div>\n",
       "<style scoped>\n",
       "    .dataframe tbody tr th:only-of-type {\n",
       "        vertical-align: middle;\n",
       "    }\n",
       "\n",
       "    .dataframe tbody tr th {\n",
       "        vertical-align: top;\n",
       "    }\n",
       "\n",
       "    .dataframe thead th {\n",
       "        text-align: right;\n",
       "    }\n",
       "</style>\n",
       "<table border=\"1\" class=\"dataframe\">\n",
       "  <thead>\n",
       "    <tr style=\"text-align: right;\">\n",
       "      <th></th>\n",
       "      <th>Sales</th>\n",
       "      <th>GossProfit</th>\n",
       "      <th>GrossProfit</th>\n",
       "      <th>NetProfit_Com</th>\n",
       "      <th>NetProfitMargin</th>\n",
       "      <th>TotalAsset</th>\n",
       "      <th>TotalAssetTurnover</th>\n",
       "      <th>Leverage</th>\n",
       "      <th>FLM</th>\n",
       "      <th>ROA</th>\n",
       "      <th>ROE</th>\n",
       "    </tr>\n",
       "  </thead>\n",
       "  <tbody>\n",
       "    <tr>\n",
       "      <th>0</th>\n",
       "      <td>3074</td>\n",
       "      <td>986</td>\n",
       "      <td>986</td>\n",
       "      <td>221</td>\n",
       "      <td>0.071893</td>\n",
       "      <td>3597</td>\n",
       "      <td>0.854601</td>\n",
       "      <td>0.583238</td>\n",
       "      <td>2.050741</td>\n",
       "      <td>0.06144</td>\n",
       "      <td>0.125998</td>\n",
       "    </tr>\n",
       "  </tbody>\n",
       "</table>\n",
       "</div>"
      ],
      "text/plain": [
       "   Sales  GossProfit  GrossProfit  NetProfit_Com  NetProfitMargin  TotalAsset  \\\n",
       "0   3074         986          986            221         0.071893        3597   \n",
       "\n",
       "   TotalAssetTurnover  Leverage       FLM      ROA       ROE  \n",
       "0            0.854601  0.583238  2.050741  0.06144  0.125998  "
      ]
     },
     "execution_count": 13,
     "metadata": {},
     "output_type": "execute_result"
    }
   ],
   "source": [
    "dataRatios"
   ]
  }
 ],
 "metadata": {
  "kernelspec": {
   "display_name": "Python 3",
   "language": "python",
   "name": "python3"
  },
  "language_info": {
   "codemirror_mode": {
    "name": "ipython",
    "version": 3
   },
   "file_extension": ".py",
   "mimetype": "text/x-python",
   "name": "python",
   "nbconvert_exporter": "python",
   "pygments_lexer": "ipython3",
   "version": "3.7.1"
  }
 },
 "nbformat": 4,
 "nbformat_minor": 2
}
